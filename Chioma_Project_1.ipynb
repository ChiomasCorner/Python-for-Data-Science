{
  "nbformat": 4,
  "nbformat_minor": 0,
  "metadata": {
    "colab": {
      "name": "Chioma Project 1.ipynb",
      "provenance": [],
      "collapsed_sections": []
    },
    "kernelspec": {
      "name": "python3",
      "display_name": "Python 3"
    },
    "language_info": {
      "name": "python"
    }
  },
  "cells": [
    {
      "cell_type": "markdown",
      "source": [
        "# Project 1\n",
        "\n",
        "## Reg_no: DS105"
      ],
      "metadata": {
        "id": "nGO3Ur9iAIm0"
      }
    },
    {
      "cell_type": "markdown",
      "source": [
        "It's important that you fill in your registration number for proper documentation."
      ],
      "metadata": {
        "id": "CSVqJgaZA3UI"
      }
    },
    {
      "cell_type": "code",
      "source": [
        ""
      ],
      "metadata": {
        "id": "M8bexTnudG7T"
      },
      "execution_count": null,
      "outputs": []
    },
    {
      "cell_type": "markdown",
      "source": [
        "In this project you will be creating your own data set from scratch.\n",
        "\n",
        "Follow the instructions below"
      ],
      "metadata": {
        "id": "xlLISCys_Q7f"
      }
    },
    {
      "cell_type": "markdown",
      "source": [
        "## Import numpy and pandas"
      ],
      "metadata": {
        "id": "zmU6_PD5BTIR"
      }
    },
    {
      "cell_type": "code",
      "source": [
        "# Complete this\n",
        "import numpy as  np\n",
        "import pandas as pd"
      ],
      "metadata": {
        "id": "hWbGgV5rBYLR"
      },
      "execution_count": null,
      "outputs": []
    },
    {
      "cell_type": "markdown",
      "source": [
        "### Create  a dictionary (named student) of 10 students with name, relationship status, age and department columns"
      ],
      "metadata": {
        "id": "BcudwDK4-kpd"
      }
    },
    {
      "cell_type": "code",
      "source": [
        "student = {'name':['Chioma','Edet','Sola','Ade','Kola', 'Ola','Adeola','Peter','Muhammed','Chima'],\n",
        "           'relationship':['single','married','married','single','married','single','complicated','single','complicated','married'],\n",
        "           'age':[23, 45, 56, 27, 67, 21, 18, 38, 30,49],\n",
        "           'department':['HR','Technical','Sales','Markerting','Technical','HR','HR','Markerting','Technical','Sales']}\n",
        "\n",
        "# 10 values in each of the square brackets"
      ],
      "metadata": {
        "id": "XxEsa7gNBphZ"
      },
      "execution_count": null,
      "outputs": []
    },
    {
      "cell_type": "markdown",
      "source": [
        "### Add cgpa to the dictionary "
      ],
      "metadata": {
        "id": "HX23D_Sb9rRT"
      }
    },
    {
      "cell_type": "code",
      "source": [
        "student['cgpa'] = [2.3, 4.5, 1.2, 3.9, 4.8, 4.5, 0.5, 2.6, 2.5, 4.1] # 10 values for the students' cgpa"
      ],
      "metadata": {
        "id": "TOtLTr73Atj3"
      },
      "execution_count": null,
      "outputs": []
    },
    {
      "cell_type": "markdown",
      "source": [
        "### Remove relationship status from the dictionary"
      ],
      "metadata": {
        "id": "MEWiJ5s3-vYN"
      }
    },
    {
      "cell_type": "code",
      "source": [
        "student.pop('relationship')  # fill in the key  you want to remove"
      ],
      "metadata": {
        "id": "J8r6HT8oB4as",
        "colab": {
          "base_uri": "https://localhost:8080/"
        },
        "outputId": "3987b19a-c4eb-4444-964a-2117165f9345"
      },
      "execution_count": null,
      "outputs": [
        {
          "output_type": "execute_result",
          "data": {
            "text/plain": [
              "['single',\n",
              " 'married',\n",
              " 'married',\n",
              " 'single',\n",
              " 'married',\n",
              " 'single',\n",
              " 'complicated',\n",
              " 'single',\n",
              " 'complicated',\n",
              " 'married']"
            ]
          },
          "metadata": {},
          "execution_count": 6
        }
      ]
    },
    {
      "cell_type": "markdown",
      "source": [
        "## Convert the dictionary to a dataframe(df)"
      ],
      "metadata": {
        "id": "SVxpIt3o-yTv"
      }
    },
    {
      "cell_type": "code",
      "source": [
        "df = pd.DataFrame(student)   # complete this\n",
        "df.head()"
      ],
      "metadata": {
        "id": "Zhu_W-axCPS1",
        "colab": {
          "base_uri": "https://localhost:8080/",
          "height": 206
        },
        "outputId": "d85d17be-725e-4615-fa48-03adb87037d9"
      },
      "execution_count": null,
      "outputs": [
        {
          "output_type": "execute_result",
          "data": {
            "text/plain": [
              "     name  age  department  cgpa\n",
              "0  Chioma   23          HR   2.3\n",
              "1    Edet   45   Technical   4.5\n",
              "2    Sola   56       Sales   1.2\n",
              "3     Ade   27  Markerting   3.9\n",
              "4    Kola   67   Technical   4.8"
            ],
            "text/html": [
              "\n",
              "  <div id=\"df-6f23a725-5fdb-49fb-b431-a9b94c80224a\">\n",
              "    <div class=\"colab-df-container\">\n",
              "      <div>\n",
              "<style scoped>\n",
              "    .dataframe tbody tr th:only-of-type {\n",
              "        vertical-align: middle;\n",
              "    }\n",
              "\n",
              "    .dataframe tbody tr th {\n",
              "        vertical-align: top;\n",
              "    }\n",
              "\n",
              "    .dataframe thead th {\n",
              "        text-align: right;\n",
              "    }\n",
              "</style>\n",
              "<table border=\"1\" class=\"dataframe\">\n",
              "  <thead>\n",
              "    <tr style=\"text-align: right;\">\n",
              "      <th></th>\n",
              "      <th>name</th>\n",
              "      <th>age</th>\n",
              "      <th>department</th>\n",
              "      <th>cgpa</th>\n",
              "    </tr>\n",
              "  </thead>\n",
              "  <tbody>\n",
              "    <tr>\n",
              "      <th>0</th>\n",
              "      <td>Chioma</td>\n",
              "      <td>23</td>\n",
              "      <td>HR</td>\n",
              "      <td>2.3</td>\n",
              "    </tr>\n",
              "    <tr>\n",
              "      <th>1</th>\n",
              "      <td>Edet</td>\n",
              "      <td>45</td>\n",
              "      <td>Technical</td>\n",
              "      <td>4.5</td>\n",
              "    </tr>\n",
              "    <tr>\n",
              "      <th>2</th>\n",
              "      <td>Sola</td>\n",
              "      <td>56</td>\n",
              "      <td>Sales</td>\n",
              "      <td>1.2</td>\n",
              "    </tr>\n",
              "    <tr>\n",
              "      <th>3</th>\n",
              "      <td>Ade</td>\n",
              "      <td>27</td>\n",
              "      <td>Markerting</td>\n",
              "      <td>3.9</td>\n",
              "    </tr>\n",
              "    <tr>\n",
              "      <th>4</th>\n",
              "      <td>Kola</td>\n",
              "      <td>67</td>\n",
              "      <td>Technical</td>\n",
              "      <td>4.8</td>\n",
              "    </tr>\n",
              "  </tbody>\n",
              "</table>\n",
              "</div>\n",
              "      <button class=\"colab-df-convert\" onclick=\"convertToInteractive('df-6f23a725-5fdb-49fb-b431-a9b94c80224a')\"\n",
              "              title=\"Convert this dataframe to an interactive table.\"\n",
              "              style=\"display:none;\">\n",
              "        \n",
              "  <svg xmlns=\"http://www.w3.org/2000/svg\" height=\"24px\"viewBox=\"0 0 24 24\"\n",
              "       width=\"24px\">\n",
              "    <path d=\"M0 0h24v24H0V0z\" fill=\"none\"/>\n",
              "    <path d=\"M18.56 5.44l.94 2.06.94-2.06 2.06-.94-2.06-.94-.94-2.06-.94 2.06-2.06.94zm-11 1L8.5 8.5l.94-2.06 2.06-.94-2.06-.94L8.5 2.5l-.94 2.06-2.06.94zm10 10l.94 2.06.94-2.06 2.06-.94-2.06-.94-.94-2.06-.94 2.06-2.06.94z\"/><path d=\"M17.41 7.96l-1.37-1.37c-.4-.4-.92-.59-1.43-.59-.52 0-1.04.2-1.43.59L10.3 9.45l-7.72 7.72c-.78.78-.78 2.05 0 2.83L4 21.41c.39.39.9.59 1.41.59.51 0 1.02-.2 1.41-.59l7.78-7.78 2.81-2.81c.8-.78.8-2.07 0-2.86zM5.41 20L4 18.59l7.72-7.72 1.47 1.35L5.41 20z\"/>\n",
              "  </svg>\n",
              "      </button>\n",
              "      \n",
              "  <style>\n",
              "    .colab-df-container {\n",
              "      display:flex;\n",
              "      flex-wrap:wrap;\n",
              "      gap: 12px;\n",
              "    }\n",
              "\n",
              "    .colab-df-convert {\n",
              "      background-color: #E8F0FE;\n",
              "      border: none;\n",
              "      border-radius: 50%;\n",
              "      cursor: pointer;\n",
              "      display: none;\n",
              "      fill: #1967D2;\n",
              "      height: 32px;\n",
              "      padding: 0 0 0 0;\n",
              "      width: 32px;\n",
              "    }\n",
              "\n",
              "    .colab-df-convert:hover {\n",
              "      background-color: #E2EBFA;\n",
              "      box-shadow: 0px 1px 2px rgba(60, 64, 67, 0.3), 0px 1px 3px 1px rgba(60, 64, 67, 0.15);\n",
              "      fill: #174EA6;\n",
              "    }\n",
              "\n",
              "    [theme=dark] .colab-df-convert {\n",
              "      background-color: #3B4455;\n",
              "      fill: #D2E3FC;\n",
              "    }\n",
              "\n",
              "    [theme=dark] .colab-df-convert:hover {\n",
              "      background-color: #434B5C;\n",
              "      box-shadow: 0px 1px 3px 1px rgba(0, 0, 0, 0.15);\n",
              "      filter: drop-shadow(0px 1px 2px rgba(0, 0, 0, 0.3));\n",
              "      fill: #FFFFFF;\n",
              "    }\n",
              "  </style>\n",
              "\n",
              "      <script>\n",
              "        const buttonEl =\n",
              "          document.querySelector('#df-6f23a725-5fdb-49fb-b431-a9b94c80224a button.colab-df-convert');\n",
              "        buttonEl.style.display =\n",
              "          google.colab.kernel.accessAllowed ? 'block' : 'none';\n",
              "\n",
              "        async function convertToInteractive(key) {\n",
              "          const element = document.querySelector('#df-6f23a725-5fdb-49fb-b431-a9b94c80224a');\n",
              "          const dataTable =\n",
              "            await google.colab.kernel.invokeFunction('convertToInteractive',\n",
              "                                                     [key], {});\n",
              "          if (!dataTable) return;\n",
              "\n",
              "          const docLinkHtml = 'Like what you see? Visit the ' +\n",
              "            '<a target=\"_blank\" href=https://colab.research.google.com/notebooks/data_table.ipynb>data table notebook</a>'\n",
              "            + ' to learn more about interactive tables.';\n",
              "          element.innerHTML = '';\n",
              "          dataTable['output_type'] = 'display_data';\n",
              "          await google.colab.output.renderOutput(dataTable, element);\n",
              "          const docLink = document.createElement('div');\n",
              "          docLink.innerHTML = docLinkHtml;\n",
              "          element.appendChild(docLink);\n",
              "        }\n",
              "      </script>\n",
              "    </div>\n",
              "  </div>\n",
              "  "
            ]
          },
          "metadata": {},
          "execution_count": 7
        }
      ]
    },
    {
      "cell_type": "markdown",
      "source": [
        "## Add admission_date (year, month and day)and gender columns to the dataframe\n"
      ],
      "metadata": {
        "id": "TMnxb-nk-9Vy"
      }
    },
    {
      "cell_type": "code",
      "source": [
        "df['admission_date'] = ['2017-08-04','2020-05-29','2010-06-01','2013-11-04','2022-05-08','2012-12-01','2016-03-04','2014-09-15','2001-08-12','2010-01-24']#complete the code\n",
        "df['gender'] = ['female','male','male','female','male','male','female','male','male', 'male' ]\n"
      ],
      "metadata": {
        "id": "Xo3wLmlpCWYk"
      },
      "execution_count": null,
      "outputs": []
    },
    {
      "cell_type": "markdown",
      "source": [
        "# Check the dataframe\n",
        "\n",
        "\n"
      ],
      "metadata": {
        "id": "wkqvFcAL_BHF"
      }
    },
    {
      "cell_type": "code",
      "source": [
        "df"
      ],
      "metadata": {
        "id": "Q8OluagoCmJk",
        "colab": {
          "base_uri": "https://localhost:8080/",
          "height": 363
        },
        "outputId": "a9772736-7d5a-4728-ac29-d2029c98d996"
      },
      "execution_count": null,
      "outputs": [
        {
          "output_type": "execute_result",
          "data": {
            "text/plain": [
              "       name  age  department  cgpa admission_date  gender\n",
              "0    Chioma   23          HR   2.3     2017-08-04  female\n",
              "1      Edet   45   Technical   4.5     2020-05-29    male\n",
              "2      Sola   56       Sales   1.2     2010-06-01    male\n",
              "3       Ade   27  Markerting   3.9     2013-11-04  female\n",
              "4      Kola   67   Technical   4.8     2022-05-08    male\n",
              "5       Ola   21          HR   4.5     2012-12-01    male\n",
              "6    Adeola   18          HR   0.5     2016-03-04  female\n",
              "7     Peter   38  Markerting   2.6     2014-09-15    male\n",
              "8  Muhammed   30   Technical   2.5     2001-08-12    male\n",
              "9     Chima   49       Sales   4.1     2010-01-24    male"
            ],
            "text/html": [
              "\n",
              "  <div id=\"df-f20ec4c0-6d86-4539-8696-e4270be4b079\">\n",
              "    <div class=\"colab-df-container\">\n",
              "      <div>\n",
              "<style scoped>\n",
              "    .dataframe tbody tr th:only-of-type {\n",
              "        vertical-align: middle;\n",
              "    }\n",
              "\n",
              "    .dataframe tbody tr th {\n",
              "        vertical-align: top;\n",
              "    }\n",
              "\n",
              "    .dataframe thead th {\n",
              "        text-align: right;\n",
              "    }\n",
              "</style>\n",
              "<table border=\"1\" class=\"dataframe\">\n",
              "  <thead>\n",
              "    <tr style=\"text-align: right;\">\n",
              "      <th></th>\n",
              "      <th>name</th>\n",
              "      <th>age</th>\n",
              "      <th>department</th>\n",
              "      <th>cgpa</th>\n",
              "      <th>admission_date</th>\n",
              "      <th>gender</th>\n",
              "    </tr>\n",
              "  </thead>\n",
              "  <tbody>\n",
              "    <tr>\n",
              "      <th>0</th>\n",
              "      <td>Chioma</td>\n",
              "      <td>23</td>\n",
              "      <td>HR</td>\n",
              "      <td>2.3</td>\n",
              "      <td>2017-08-04</td>\n",
              "      <td>female</td>\n",
              "    </tr>\n",
              "    <tr>\n",
              "      <th>1</th>\n",
              "      <td>Edet</td>\n",
              "      <td>45</td>\n",
              "      <td>Technical</td>\n",
              "      <td>4.5</td>\n",
              "      <td>2020-05-29</td>\n",
              "      <td>male</td>\n",
              "    </tr>\n",
              "    <tr>\n",
              "      <th>2</th>\n",
              "      <td>Sola</td>\n",
              "      <td>56</td>\n",
              "      <td>Sales</td>\n",
              "      <td>1.2</td>\n",
              "      <td>2010-06-01</td>\n",
              "      <td>male</td>\n",
              "    </tr>\n",
              "    <tr>\n",
              "      <th>3</th>\n",
              "      <td>Ade</td>\n",
              "      <td>27</td>\n",
              "      <td>Markerting</td>\n",
              "      <td>3.9</td>\n",
              "      <td>2013-11-04</td>\n",
              "      <td>female</td>\n",
              "    </tr>\n",
              "    <tr>\n",
              "      <th>4</th>\n",
              "      <td>Kola</td>\n",
              "      <td>67</td>\n",
              "      <td>Technical</td>\n",
              "      <td>4.8</td>\n",
              "      <td>2022-05-08</td>\n",
              "      <td>male</td>\n",
              "    </tr>\n",
              "    <tr>\n",
              "      <th>5</th>\n",
              "      <td>Ola</td>\n",
              "      <td>21</td>\n",
              "      <td>HR</td>\n",
              "      <td>4.5</td>\n",
              "      <td>2012-12-01</td>\n",
              "      <td>male</td>\n",
              "    </tr>\n",
              "    <tr>\n",
              "      <th>6</th>\n",
              "      <td>Adeola</td>\n",
              "      <td>18</td>\n",
              "      <td>HR</td>\n",
              "      <td>0.5</td>\n",
              "      <td>2016-03-04</td>\n",
              "      <td>female</td>\n",
              "    </tr>\n",
              "    <tr>\n",
              "      <th>7</th>\n",
              "      <td>Peter</td>\n",
              "      <td>38</td>\n",
              "      <td>Markerting</td>\n",
              "      <td>2.6</td>\n",
              "      <td>2014-09-15</td>\n",
              "      <td>male</td>\n",
              "    </tr>\n",
              "    <tr>\n",
              "      <th>8</th>\n",
              "      <td>Muhammed</td>\n",
              "      <td>30</td>\n",
              "      <td>Technical</td>\n",
              "      <td>2.5</td>\n",
              "      <td>2001-08-12</td>\n",
              "      <td>male</td>\n",
              "    </tr>\n",
              "    <tr>\n",
              "      <th>9</th>\n",
              "      <td>Chima</td>\n",
              "      <td>49</td>\n",
              "      <td>Sales</td>\n",
              "      <td>4.1</td>\n",
              "      <td>2010-01-24</td>\n",
              "      <td>male</td>\n",
              "    </tr>\n",
              "  </tbody>\n",
              "</table>\n",
              "</div>\n",
              "      <button class=\"colab-df-convert\" onclick=\"convertToInteractive('df-f20ec4c0-6d86-4539-8696-e4270be4b079')\"\n",
              "              title=\"Convert this dataframe to an interactive table.\"\n",
              "              style=\"display:none;\">\n",
              "        \n",
              "  <svg xmlns=\"http://www.w3.org/2000/svg\" height=\"24px\"viewBox=\"0 0 24 24\"\n",
              "       width=\"24px\">\n",
              "    <path d=\"M0 0h24v24H0V0z\" fill=\"none\"/>\n",
              "    <path d=\"M18.56 5.44l.94 2.06.94-2.06 2.06-.94-2.06-.94-.94-2.06-.94 2.06-2.06.94zm-11 1L8.5 8.5l.94-2.06 2.06-.94-2.06-.94L8.5 2.5l-.94 2.06-2.06.94zm10 10l.94 2.06.94-2.06 2.06-.94-2.06-.94-.94-2.06-.94 2.06-2.06.94z\"/><path d=\"M17.41 7.96l-1.37-1.37c-.4-.4-.92-.59-1.43-.59-.52 0-1.04.2-1.43.59L10.3 9.45l-7.72 7.72c-.78.78-.78 2.05 0 2.83L4 21.41c.39.39.9.59 1.41.59.51 0 1.02-.2 1.41-.59l7.78-7.78 2.81-2.81c.8-.78.8-2.07 0-2.86zM5.41 20L4 18.59l7.72-7.72 1.47 1.35L5.41 20z\"/>\n",
              "  </svg>\n",
              "      </button>\n",
              "      \n",
              "  <style>\n",
              "    .colab-df-container {\n",
              "      display:flex;\n",
              "      flex-wrap:wrap;\n",
              "      gap: 12px;\n",
              "    }\n",
              "\n",
              "    .colab-df-convert {\n",
              "      background-color: #E8F0FE;\n",
              "      border: none;\n",
              "      border-radius: 50%;\n",
              "      cursor: pointer;\n",
              "      display: none;\n",
              "      fill: #1967D2;\n",
              "      height: 32px;\n",
              "      padding: 0 0 0 0;\n",
              "      width: 32px;\n",
              "    }\n",
              "\n",
              "    .colab-df-convert:hover {\n",
              "      background-color: #E2EBFA;\n",
              "      box-shadow: 0px 1px 2px rgba(60, 64, 67, 0.3), 0px 1px 3px 1px rgba(60, 64, 67, 0.15);\n",
              "      fill: #174EA6;\n",
              "    }\n",
              "\n",
              "    [theme=dark] .colab-df-convert {\n",
              "      background-color: #3B4455;\n",
              "      fill: #D2E3FC;\n",
              "    }\n",
              "\n",
              "    [theme=dark] .colab-df-convert:hover {\n",
              "      background-color: #434B5C;\n",
              "      box-shadow: 0px 1px 3px 1px rgba(0, 0, 0, 0.15);\n",
              "      filter: drop-shadow(0px 1px 2px rgba(0, 0, 0, 0.3));\n",
              "      fill: #FFFFFF;\n",
              "    }\n",
              "  </style>\n",
              "\n",
              "      <script>\n",
              "        const buttonEl =\n",
              "          document.querySelector('#df-f20ec4c0-6d86-4539-8696-e4270be4b079 button.colab-df-convert');\n",
              "        buttonEl.style.display =\n",
              "          google.colab.kernel.accessAllowed ? 'block' : 'none';\n",
              "\n",
              "        async function convertToInteractive(key) {\n",
              "          const element = document.querySelector('#df-f20ec4c0-6d86-4539-8696-e4270be4b079');\n",
              "          const dataTable =\n",
              "            await google.colab.kernel.invokeFunction('convertToInteractive',\n",
              "                                                     [key], {});\n",
              "          if (!dataTable) return;\n",
              "\n",
              "          const docLinkHtml = 'Like what you see? Visit the ' +\n",
              "            '<a target=\"_blank\" href=https://colab.research.google.com/notebooks/data_table.ipynb>data table notebook</a>'\n",
              "            + ' to learn more about interactive tables.';\n",
              "          element.innerHTML = '';\n",
              "          dataTable['output_type'] = 'display_data';\n",
              "          await google.colab.output.renderOutput(dataTable, element);\n",
              "          const docLink = document.createElement('div');\n",
              "          docLink.innerHTML = docLinkHtml;\n",
              "          element.appendChild(docLink);\n",
              "        }\n",
              "      </script>\n",
              "    </div>\n",
              "  </div>\n",
              "  "
            ]
          },
          "metadata": {},
          "execution_count": 17
        }
      ]
    },
    {
      "cell_type": "markdown",
      "source": [
        "### Create the same dataframe (df2) with all the columns (name,  age, department, admission_date and gender) from a list instead of a dictionary.\n"
      ],
      "metadata": {
        "id": "wiMjl8Dx_Fb7"
      }
    },
    {
      "cell_type": "code",
      "source": [
        "['cgpa'] = [2.3, 4.5, 1.2, 3.9, 4.8, 4.5, 0.5, 2.6, 2.5, 4.1]"
      ],
      "metadata": {
        "id": "ZgV5QwEh_-1h"
      },
      "execution_count": null,
      "outputs": []
    },
    {
      "cell_type": "code",
      "source": [
        "## Check the dataframe\n",
        "data = [['Chioma',23,'HR',2.3,'2017-08-04','female'],\n",
        "        ['Edet', 45,'Technical',4.5,'2020-05-29','male'],\n",
        "        ['Sola', 56,'Sales',1.2,'2010-06-01','male'],\n",
        "        ['Ade', 27, 'Markerting',3.9,'2013-11-04','female'],\n",
        "        ['Kola', 67, 'Technical',4.8,'2022-05-08','male'],\n",
        "        ['Ola', 21, 'HR',4.5,'2012-12-01','male'],\n",
        "        ['Adeola', 18, 'HR',0.5,'2016-03-04','female'],\n",
        "        ['Peter', 38, 'Markerting',2.6,'2014-09-15','male'],\n",
        "        ['Muhammed', 30, 'Technical',2.5,'2001-08-12','male'],\n",
        "         ['Chima', 49,'Sales',4.1,'2010-01-24','male']]\n",
        "        \n",
        "df2 = pd.DataFrame(data= data, columns=['name', 'age', 'department','cgpa', 'admission_date', 'gender'])"
      ],
      "metadata": {
        "id": "1mdRG0GVCubT"
      },
      "execution_count": null,
      "outputs": []
    },
    {
      "cell_type": "markdown",
      "source": [
        "## Work on the first dataframe(df) from here on"
      ],
      "metadata": {
        "id": "2mGijy6M_qdQ"
      }
    },
    {
      "cell_type": "markdown",
      "source": [
        "### Convert df admission_date column to datetime\n",
        "\n",
        "\n",
        " first import datetime as dt\n",
        "\n",
        "\n",
        "\n",
        "Extract the year, month and day as separate columns within the dataset"
      ],
      "metadata": {
        "id": "MrAgX-UM_HXT"
      }
    },
    {
      "cell_type": "code",
      "source": [
        "df['admission_date'] = pd.to_datetime(df['admission_date'])  # convert the date to datetime object\n",
        "df['year'] = df['admission_date'].dt.year\n",
        "# Complete the code and do the same for month and day"
      ],
      "metadata": {
        "id": "iv23O91TC5jc"
      },
      "execution_count": null,
      "outputs": []
    },
    {
      "cell_type": "code",
      "source": [
        "# Check for data types of all columns\n",
        "# Check for missing values\n",
        "# Check for percentage of  missing values\n",
        "df.dtypes # Check for data types of all columns"
      ],
      "metadata": {
        "id": "r-yzmTL9Drp8",
        "colab": {
          "base_uri": "https://localhost:8080/"
        },
        "outputId": "6b47082c-162a-4fcd-e3c0-3b3f1e2e5670"
      },
      "execution_count": null,
      "outputs": [
        {
          "output_type": "execute_result",
          "data": {
            "text/plain": [
              "name                      object\n",
              "age                        int64\n",
              "department                object\n",
              "cgpa                     float64\n",
              "admission_date    datetime64[ns]\n",
              "gender                    object\n",
              "year                       int64\n",
              "dtype: object"
            ]
          },
          "metadata": {},
          "execution_count": 20
        }
      ]
    },
    {
      "cell_type": "code",
      "source": [
        "df.isna().sum().sum() # Check for missing values"
      ],
      "metadata": {
        "colab": {
          "base_uri": "https://localhost:8080/"
        },
        "id": "xntdhJ-cEPeM",
        "outputId": "7df2b5f2-72f9-44eb-8230-1dd6e315bfd9"
      },
      "execution_count": null,
      "outputs": [
        {
          "output_type": "execute_result",
          "data": {
            "text/plain": [
              "0"
            ]
          },
          "metadata": {},
          "execution_count": 21
        }
      ]
    },
    {
      "cell_type": "code",
      "source": [
        "df.count().sum().sum()"
      ],
      "metadata": {
        "colab": {
          "base_uri": "https://localhost:8080/"
        },
        "id": "IU3yK4jqEi7X",
        "outputId": "97ca39a3-232f-4983-f46c-487dcb2ed865"
      },
      "execution_count": null,
      "outputs": [
        {
          "output_type": "execute_result",
          "data": {
            "text/plain": [
              "70"
            ]
          },
          "metadata": {},
          "execution_count": 23
        }
      ]
    },
    {
      "cell_type": "code",
      "source": [
        "df.isna().sum().sum()/df.count().sum().sum() * 100 # Check for percentage of  missing values"
      ],
      "metadata": {
        "colab": {
          "base_uri": "https://localhost:8080/"
        },
        "id": "qtHNgfAWEXQt",
        "outputId": "bee46949-1bb0-441b-bfb6-ff1d23fcaeba"
      },
      "execution_count": null,
      "outputs": [
        {
          "output_type": "execute_result",
          "data": {
            "text/plain": [
              "0.0"
            ]
          },
          "metadata": {},
          "execution_count": 24
        }
      ]
    },
    {
      "cell_type": "code",
      "source": [
        "# Check unique values in each of the columns\n",
        "# Check number of unique values in each of the columns\n",
        "# Check value counts for each of the columns"
      ],
      "metadata": {
        "id": "hn99VRNn_16o"
      },
      "execution_count": null,
      "outputs": []
    },
    {
      "cell_type": "code",
      "source": [
        " [df[i].unique() for i in df.columns]# Check unique values in each of the columns"
      ],
      "metadata": {
        "colab": {
          "base_uri": "https://localhost:8080/"
        },
        "id": "iLOrdbUlE7m8",
        "outputId": "cc5488c1-cd15-41cd-fbf2-343415cf0bce"
      },
      "execution_count": null,
      "outputs": [
        {
          "output_type": "execute_result",
          "data": {
            "text/plain": [
              "[array(['Chioma', 'Edet', 'Sola', 'Ade', 'Kola', 'Ola', 'Adeola', 'Peter',\n",
              "        'Muhammed', 'Chima'], dtype=object),\n",
              " array([23, 45, 56, 27, 67, 21, 18, 38, 30, 49]),\n",
              " array(['HR', 'Technical', 'Sales', 'Markerting'], dtype=object),\n",
              " array([2.3, 4.5, 1.2, 3.9, 4.8, 0.5, 2.6, 2.5, 4.1]),\n",
              " array(['2017-08-04T00:00:00.000000000', '2020-05-29T00:00:00.000000000',\n",
              "        '2010-06-01T00:00:00.000000000', '2013-11-04T00:00:00.000000000',\n",
              "        '2022-05-08T00:00:00.000000000', '2012-12-01T00:00:00.000000000',\n",
              "        '2016-03-04T00:00:00.000000000', '2014-09-15T00:00:00.000000000',\n",
              "        '2001-08-12T00:00:00.000000000', '2010-01-24T00:00:00.000000000'],\n",
              "       dtype='datetime64[ns]'),\n",
              " array(['female', 'male'], dtype=object),\n",
              " array([2017, 2020, 2010, 2013, 2022, 2012, 2016, 2014, 2001])]"
            ]
          },
          "metadata": {},
          "execution_count": 30
        }
      ]
    },
    {
      "cell_type": "code",
      "source": [
        "df.nunique() \n",
        "# Check number of unique values in each of the columns"
      ],
      "metadata": {
        "colab": {
          "base_uri": "https://localhost:8080/"
        },
        "id": "5G7ww6yjFRsc",
        "outputId": "32b44e73-cb1e-4fa0-f512-cdc83caa344c"
      },
      "execution_count": null,
      "outputs": [
        {
          "output_type": "execute_result",
          "data": {
            "text/plain": [
              "name              10\n",
              "age               10\n",
              "department         4\n",
              "cgpa               9\n",
              "admission_date    10\n",
              "gender             2\n",
              "year               9\n",
              "dtype: int64"
            ]
          },
          "metadata": {},
          "execution_count": 31
        }
      ]
    },
    {
      "cell_type": "code",
      "source": [
        "[df[i].value_counts() for i in df.columns]# Check value counts for each of the columns"
      ],
      "metadata": {
        "colab": {
          "base_uri": "https://localhost:8080/"
        },
        "id": "KJjU4xjnGHOJ",
        "outputId": "15c1509b-bb3a-458e-cc30-35f1dea43d58"
      },
      "execution_count": null,
      "outputs": [
        {
          "output_type": "execute_result",
          "data": {
            "text/plain": [
              "[Chioma      1\n",
              " Edet        1\n",
              " Sola        1\n",
              " Ade         1\n",
              " Kola        1\n",
              " Ola         1\n",
              " Adeola      1\n",
              " Peter       1\n",
              " Muhammed    1\n",
              " Chima       1\n",
              " Name: name, dtype: int64, 23    1\n",
              " 45    1\n",
              " 56    1\n",
              " 27    1\n",
              " 67    1\n",
              " 21    1\n",
              " 18    1\n",
              " 38    1\n",
              " 30    1\n",
              " 49    1\n",
              " Name: age, dtype: int64, HR            3\n",
              " Technical     3\n",
              " Sales         2\n",
              " Markerting    2\n",
              " Name: department, dtype: int64, 4.5    2\n",
              " 2.3    1\n",
              " 1.2    1\n",
              " 3.9    1\n",
              " 4.8    1\n",
              " 0.5    1\n",
              " 2.6    1\n",
              " 2.5    1\n",
              " 4.1    1\n",
              " Name: cgpa, dtype: int64, 2017-08-04    1\n",
              " 2020-05-29    1\n",
              " 2010-06-01    1\n",
              " 2013-11-04    1\n",
              " 2022-05-08    1\n",
              " 2012-12-01    1\n",
              " 2016-03-04    1\n",
              " 2014-09-15    1\n",
              " 2001-08-12    1\n",
              " 2010-01-24    1\n",
              " Name: admission_date, dtype: int64, male      7\n",
              " female    3\n",
              " Name: gender, dtype: int64, 2010    2\n",
              " 2017    1\n",
              " 2020    1\n",
              " 2013    1\n",
              " 2022    1\n",
              " 2012    1\n",
              " 2016    1\n",
              " 2014    1\n",
              " 2001    1\n",
              " Name: year, dtype: int64]"
            ]
          },
          "metadata": {},
          "execution_count": 35
        }
      ]
    },
    {
      "cell_type": "code",
      "source": [
        "# df.info()\n",
        "# df.describe()\n",
        "df.info()"
      ],
      "metadata": {
        "id": "gJozSZyOAE4I",
        "colab": {
          "base_uri": "https://localhost:8080/"
        },
        "outputId": "7009d798-ba72-4141-c5b9-15bc500a5be5"
      },
      "execution_count": null,
      "outputs": [
        {
          "output_type": "stream",
          "name": "stdout",
          "text": [
            "<class 'pandas.core.frame.DataFrame'>\n",
            "RangeIndex: 10 entries, 0 to 9\n",
            "Data columns (total 7 columns):\n",
            " #   Column          Non-Null Count  Dtype         \n",
            "---  ------          --------------  -----         \n",
            " 0   name            10 non-null     object        \n",
            " 1   age             10 non-null     int64         \n",
            " 2   department      10 non-null     object        \n",
            " 3   cgpa            10 non-null     float64       \n",
            " 4   admission_date  10 non-null     datetime64[ns]\n",
            " 5   gender          10 non-null     object        \n",
            " 6   year            10 non-null     int64         \n",
            "dtypes: datetime64[ns](1), float64(1), int64(2), object(3)\n",
            "memory usage: 688.0+ bytes\n"
          ]
        }
      ]
    },
    {
      "cell_type": "code",
      "source": [
        "df.describe()"
      ],
      "metadata": {
        "colab": {
          "base_uri": "https://localhost:8080/",
          "height": 300
        },
        "id": "mtxcKXcmI7tn",
        "outputId": "ce84786a-9814-4f03-9a7c-89a070473563"
      },
      "execution_count": null,
      "outputs": [
        {
          "output_type": "execute_result",
          "data": {
            "text/plain": [
              "             age       cgpa         year\n",
              "count  10.000000  10.000000    10.000000\n",
              "mean   37.400000   3.090000  2013.500000\n",
              "std    16.433029   1.493281     5.930149\n",
              "min    18.000000   0.500000  2001.000000\n",
              "25%    24.000000   2.350000  2010.500000\n",
              "50%    34.000000   3.250000  2013.500000\n",
              "75%    48.000000   4.400000  2016.750000\n",
              "max    67.000000   4.800000  2022.000000"
            ],
            "text/html": [
              "\n",
              "  <div id=\"df-c2d6e0c8-6698-4d7a-af05-ee4a57f0e411\">\n",
              "    <div class=\"colab-df-container\">\n",
              "      <div>\n",
              "<style scoped>\n",
              "    .dataframe tbody tr th:only-of-type {\n",
              "        vertical-align: middle;\n",
              "    }\n",
              "\n",
              "    .dataframe tbody tr th {\n",
              "        vertical-align: top;\n",
              "    }\n",
              "\n",
              "    .dataframe thead th {\n",
              "        text-align: right;\n",
              "    }\n",
              "</style>\n",
              "<table border=\"1\" class=\"dataframe\">\n",
              "  <thead>\n",
              "    <tr style=\"text-align: right;\">\n",
              "      <th></th>\n",
              "      <th>age</th>\n",
              "      <th>cgpa</th>\n",
              "      <th>year</th>\n",
              "    </tr>\n",
              "  </thead>\n",
              "  <tbody>\n",
              "    <tr>\n",
              "      <th>count</th>\n",
              "      <td>10.000000</td>\n",
              "      <td>10.000000</td>\n",
              "      <td>10.000000</td>\n",
              "    </tr>\n",
              "    <tr>\n",
              "      <th>mean</th>\n",
              "      <td>37.400000</td>\n",
              "      <td>3.090000</td>\n",
              "      <td>2013.500000</td>\n",
              "    </tr>\n",
              "    <tr>\n",
              "      <th>std</th>\n",
              "      <td>16.433029</td>\n",
              "      <td>1.493281</td>\n",
              "      <td>5.930149</td>\n",
              "    </tr>\n",
              "    <tr>\n",
              "      <th>min</th>\n",
              "      <td>18.000000</td>\n",
              "      <td>0.500000</td>\n",
              "      <td>2001.000000</td>\n",
              "    </tr>\n",
              "    <tr>\n",
              "      <th>25%</th>\n",
              "      <td>24.000000</td>\n",
              "      <td>2.350000</td>\n",
              "      <td>2010.500000</td>\n",
              "    </tr>\n",
              "    <tr>\n",
              "      <th>50%</th>\n",
              "      <td>34.000000</td>\n",
              "      <td>3.250000</td>\n",
              "      <td>2013.500000</td>\n",
              "    </tr>\n",
              "    <tr>\n",
              "      <th>75%</th>\n",
              "      <td>48.000000</td>\n",
              "      <td>4.400000</td>\n",
              "      <td>2016.750000</td>\n",
              "    </tr>\n",
              "    <tr>\n",
              "      <th>max</th>\n",
              "      <td>67.000000</td>\n",
              "      <td>4.800000</td>\n",
              "      <td>2022.000000</td>\n",
              "    </tr>\n",
              "  </tbody>\n",
              "</table>\n",
              "</div>\n",
              "      <button class=\"colab-df-convert\" onclick=\"convertToInteractive('df-c2d6e0c8-6698-4d7a-af05-ee4a57f0e411')\"\n",
              "              title=\"Convert this dataframe to an interactive table.\"\n",
              "              style=\"display:none;\">\n",
              "        \n",
              "  <svg xmlns=\"http://www.w3.org/2000/svg\" height=\"24px\"viewBox=\"0 0 24 24\"\n",
              "       width=\"24px\">\n",
              "    <path d=\"M0 0h24v24H0V0z\" fill=\"none\"/>\n",
              "    <path d=\"M18.56 5.44l.94 2.06.94-2.06 2.06-.94-2.06-.94-.94-2.06-.94 2.06-2.06.94zm-11 1L8.5 8.5l.94-2.06 2.06-.94-2.06-.94L8.5 2.5l-.94 2.06-2.06.94zm10 10l.94 2.06.94-2.06 2.06-.94-2.06-.94-.94-2.06-.94 2.06-2.06.94z\"/><path d=\"M17.41 7.96l-1.37-1.37c-.4-.4-.92-.59-1.43-.59-.52 0-1.04.2-1.43.59L10.3 9.45l-7.72 7.72c-.78.78-.78 2.05 0 2.83L4 21.41c.39.39.9.59 1.41.59.51 0 1.02-.2 1.41-.59l7.78-7.78 2.81-2.81c.8-.78.8-2.07 0-2.86zM5.41 20L4 18.59l7.72-7.72 1.47 1.35L5.41 20z\"/>\n",
              "  </svg>\n",
              "      </button>\n",
              "      \n",
              "  <style>\n",
              "    .colab-df-container {\n",
              "      display:flex;\n",
              "      flex-wrap:wrap;\n",
              "      gap: 12px;\n",
              "    }\n",
              "\n",
              "    .colab-df-convert {\n",
              "      background-color: #E8F0FE;\n",
              "      border: none;\n",
              "      border-radius: 50%;\n",
              "      cursor: pointer;\n",
              "      display: none;\n",
              "      fill: #1967D2;\n",
              "      height: 32px;\n",
              "      padding: 0 0 0 0;\n",
              "      width: 32px;\n",
              "    }\n",
              "\n",
              "    .colab-df-convert:hover {\n",
              "      background-color: #E2EBFA;\n",
              "      box-shadow: 0px 1px 2px rgba(60, 64, 67, 0.3), 0px 1px 3px 1px rgba(60, 64, 67, 0.15);\n",
              "      fill: #174EA6;\n",
              "    }\n",
              "\n",
              "    [theme=dark] .colab-df-convert {\n",
              "      background-color: #3B4455;\n",
              "      fill: #D2E3FC;\n",
              "    }\n",
              "\n",
              "    [theme=dark] .colab-df-convert:hover {\n",
              "      background-color: #434B5C;\n",
              "      box-shadow: 0px 1px 3px 1px rgba(0, 0, 0, 0.15);\n",
              "      filter: drop-shadow(0px 1px 2px rgba(0, 0, 0, 0.3));\n",
              "      fill: #FFFFFF;\n",
              "    }\n",
              "  </style>\n",
              "\n",
              "      <script>\n",
              "        const buttonEl =\n",
              "          document.querySelector('#df-c2d6e0c8-6698-4d7a-af05-ee4a57f0e411 button.colab-df-convert');\n",
              "        buttonEl.style.display =\n",
              "          google.colab.kernel.accessAllowed ? 'block' : 'none';\n",
              "\n",
              "        async function convertToInteractive(key) {\n",
              "          const element = document.querySelector('#df-c2d6e0c8-6698-4d7a-af05-ee4a57f0e411');\n",
              "          const dataTable =\n",
              "            await google.colab.kernel.invokeFunction('convertToInteractive',\n",
              "                                                     [key], {});\n",
              "          if (!dataTable) return;\n",
              "\n",
              "          const docLinkHtml = 'Like what you see? Visit the ' +\n",
              "            '<a target=\"_blank\" href=https://colab.research.google.com/notebooks/data_table.ipynb>data table notebook</a>'\n",
              "            + ' to learn more about interactive tables.';\n",
              "          element.innerHTML = '';\n",
              "          dataTable['output_type'] = 'display_data';\n",
              "          await google.colab.output.renderOutput(dataTable, element);\n",
              "          const docLink = document.createElement('div');\n",
              "          docLink.innerHTML = docLinkHtml;\n",
              "          element.appendChild(docLink);\n",
              "        }\n",
              "      </script>\n",
              "    </div>\n",
              "  </div>\n",
              "  "
            ]
          },
          "metadata": {},
          "execution_count": 37
        }
      ]
    },
    {
      "cell_type": "code",
      "source": [
        "# How many rows and columns do you have? show it with df.shape\n",
        "df.shape"
      ],
      "metadata": {
        "id": "8Nts3QA4D6qb",
        "colab": {
          "base_uri": "https://localhost:8080/"
        },
        "outputId": "8d96cea6-3849-44e5-bf4c-1b80c923b8f5"
      },
      "execution_count": null,
      "outputs": [
        {
          "output_type": "execute_result",
          "data": {
            "text/plain": [
              "(10, 7)"
            ]
          },
          "metadata": {},
          "execution_count": 38
        }
      ]
    },
    {
      "cell_type": "code",
      "source": [
        "# Subset the dataframe for male gender\n",
        "df.query('gender== \"male\"') # complete the code"
      ],
      "metadata": {
        "id": "0QrErZ0BEB2H",
        "colab": {
          "base_uri": "https://localhost:8080/",
          "height": 269
        },
        "outputId": "aa7e07c1-8df3-4b47-f93d-293766c36755"
      },
      "execution_count": null,
      "outputs": [
        {
          "output_type": "execute_result",
          "data": {
            "text/plain": [
              "       name  age  department  cgpa admission_date gender  year\n",
              "1      Edet   45   Technical   4.5     2020-05-29   male  2020\n",
              "2      Sola   56       Sales   1.2     2010-06-01   male  2010\n",
              "4      Kola   67   Technical   4.8     2022-05-08   male  2022\n",
              "5       Ola   21          HR   4.5     2012-12-01   male  2012\n",
              "7     Peter   38  Markerting   2.6     2014-09-15   male  2014\n",
              "8  Muhammed   30   Technical   2.5     2001-08-12   male  2001\n",
              "9     Chima   49       Sales   4.1     2010-01-24   male  2010"
            ],
            "text/html": [
              "\n",
              "  <div id=\"df-1c5107c0-2def-4431-824d-836a605f9e47\">\n",
              "    <div class=\"colab-df-container\">\n",
              "      <div>\n",
              "<style scoped>\n",
              "    .dataframe tbody tr th:only-of-type {\n",
              "        vertical-align: middle;\n",
              "    }\n",
              "\n",
              "    .dataframe tbody tr th {\n",
              "        vertical-align: top;\n",
              "    }\n",
              "\n",
              "    .dataframe thead th {\n",
              "        text-align: right;\n",
              "    }\n",
              "</style>\n",
              "<table border=\"1\" class=\"dataframe\">\n",
              "  <thead>\n",
              "    <tr style=\"text-align: right;\">\n",
              "      <th></th>\n",
              "      <th>name</th>\n",
              "      <th>age</th>\n",
              "      <th>department</th>\n",
              "      <th>cgpa</th>\n",
              "      <th>admission_date</th>\n",
              "      <th>gender</th>\n",
              "      <th>year</th>\n",
              "    </tr>\n",
              "  </thead>\n",
              "  <tbody>\n",
              "    <tr>\n",
              "      <th>1</th>\n",
              "      <td>Edet</td>\n",
              "      <td>45</td>\n",
              "      <td>Technical</td>\n",
              "      <td>4.5</td>\n",
              "      <td>2020-05-29</td>\n",
              "      <td>male</td>\n",
              "      <td>2020</td>\n",
              "    </tr>\n",
              "    <tr>\n",
              "      <th>2</th>\n",
              "      <td>Sola</td>\n",
              "      <td>56</td>\n",
              "      <td>Sales</td>\n",
              "      <td>1.2</td>\n",
              "      <td>2010-06-01</td>\n",
              "      <td>male</td>\n",
              "      <td>2010</td>\n",
              "    </tr>\n",
              "    <tr>\n",
              "      <th>4</th>\n",
              "      <td>Kola</td>\n",
              "      <td>67</td>\n",
              "      <td>Technical</td>\n",
              "      <td>4.8</td>\n",
              "      <td>2022-05-08</td>\n",
              "      <td>male</td>\n",
              "      <td>2022</td>\n",
              "    </tr>\n",
              "    <tr>\n",
              "      <th>5</th>\n",
              "      <td>Ola</td>\n",
              "      <td>21</td>\n",
              "      <td>HR</td>\n",
              "      <td>4.5</td>\n",
              "      <td>2012-12-01</td>\n",
              "      <td>male</td>\n",
              "      <td>2012</td>\n",
              "    </tr>\n",
              "    <tr>\n",
              "      <th>7</th>\n",
              "      <td>Peter</td>\n",
              "      <td>38</td>\n",
              "      <td>Markerting</td>\n",
              "      <td>2.6</td>\n",
              "      <td>2014-09-15</td>\n",
              "      <td>male</td>\n",
              "      <td>2014</td>\n",
              "    </tr>\n",
              "    <tr>\n",
              "      <th>8</th>\n",
              "      <td>Muhammed</td>\n",
              "      <td>30</td>\n",
              "      <td>Technical</td>\n",
              "      <td>2.5</td>\n",
              "      <td>2001-08-12</td>\n",
              "      <td>male</td>\n",
              "      <td>2001</td>\n",
              "    </tr>\n",
              "    <tr>\n",
              "      <th>9</th>\n",
              "      <td>Chima</td>\n",
              "      <td>49</td>\n",
              "      <td>Sales</td>\n",
              "      <td>4.1</td>\n",
              "      <td>2010-01-24</td>\n",
              "      <td>male</td>\n",
              "      <td>2010</td>\n",
              "    </tr>\n",
              "  </tbody>\n",
              "</table>\n",
              "</div>\n",
              "      <button class=\"colab-df-convert\" onclick=\"convertToInteractive('df-1c5107c0-2def-4431-824d-836a605f9e47')\"\n",
              "              title=\"Convert this dataframe to an interactive table.\"\n",
              "              style=\"display:none;\">\n",
              "        \n",
              "  <svg xmlns=\"http://www.w3.org/2000/svg\" height=\"24px\"viewBox=\"0 0 24 24\"\n",
              "       width=\"24px\">\n",
              "    <path d=\"M0 0h24v24H0V0z\" fill=\"none\"/>\n",
              "    <path d=\"M18.56 5.44l.94 2.06.94-2.06 2.06-.94-2.06-.94-.94-2.06-.94 2.06-2.06.94zm-11 1L8.5 8.5l.94-2.06 2.06-.94-2.06-.94L8.5 2.5l-.94 2.06-2.06.94zm10 10l.94 2.06.94-2.06 2.06-.94-2.06-.94-.94-2.06-.94 2.06-2.06.94z\"/><path d=\"M17.41 7.96l-1.37-1.37c-.4-.4-.92-.59-1.43-.59-.52 0-1.04.2-1.43.59L10.3 9.45l-7.72 7.72c-.78.78-.78 2.05 0 2.83L4 21.41c.39.39.9.59 1.41.59.51 0 1.02-.2 1.41-.59l7.78-7.78 2.81-2.81c.8-.78.8-2.07 0-2.86zM5.41 20L4 18.59l7.72-7.72 1.47 1.35L5.41 20z\"/>\n",
              "  </svg>\n",
              "      </button>\n",
              "      \n",
              "  <style>\n",
              "    .colab-df-container {\n",
              "      display:flex;\n",
              "      flex-wrap:wrap;\n",
              "      gap: 12px;\n",
              "    }\n",
              "\n",
              "    .colab-df-convert {\n",
              "      background-color: #E8F0FE;\n",
              "      border: none;\n",
              "      border-radius: 50%;\n",
              "      cursor: pointer;\n",
              "      display: none;\n",
              "      fill: #1967D2;\n",
              "      height: 32px;\n",
              "      padding: 0 0 0 0;\n",
              "      width: 32px;\n",
              "    }\n",
              "\n",
              "    .colab-df-convert:hover {\n",
              "      background-color: #E2EBFA;\n",
              "      box-shadow: 0px 1px 2px rgba(60, 64, 67, 0.3), 0px 1px 3px 1px rgba(60, 64, 67, 0.15);\n",
              "      fill: #174EA6;\n",
              "    }\n",
              "\n",
              "    [theme=dark] .colab-df-convert {\n",
              "      background-color: #3B4455;\n",
              "      fill: #D2E3FC;\n",
              "    }\n",
              "\n",
              "    [theme=dark] .colab-df-convert:hover {\n",
              "      background-color: #434B5C;\n",
              "      box-shadow: 0px 1px 3px 1px rgba(0, 0, 0, 0.15);\n",
              "      filter: drop-shadow(0px 1px 2px rgba(0, 0, 0, 0.3));\n",
              "      fill: #FFFFFF;\n",
              "    }\n",
              "  </style>\n",
              "\n",
              "      <script>\n",
              "        const buttonEl =\n",
              "          document.querySelector('#df-1c5107c0-2def-4431-824d-836a605f9e47 button.colab-df-convert');\n",
              "        buttonEl.style.display =\n",
              "          google.colab.kernel.accessAllowed ? 'block' : 'none';\n",
              "\n",
              "        async function convertToInteractive(key) {\n",
              "          const element = document.querySelector('#df-1c5107c0-2def-4431-824d-836a605f9e47');\n",
              "          const dataTable =\n",
              "            await google.colab.kernel.invokeFunction('convertToInteractive',\n",
              "                                                     [key], {});\n",
              "          if (!dataTable) return;\n",
              "\n",
              "          const docLinkHtml = 'Like what you see? Visit the ' +\n",
              "            '<a target=\"_blank\" href=https://colab.research.google.com/notebooks/data_table.ipynb>data table notebook</a>'\n",
              "            + ' to learn more about interactive tables.';\n",
              "          element.innerHTML = '';\n",
              "          dataTable['output_type'] = 'display_data';\n",
              "          await google.colab.output.renderOutput(dataTable, element);\n",
              "          const docLink = document.createElement('div');\n",
              "          docLink.innerHTML = docLinkHtml;\n",
              "          element.appendChild(docLink);\n",
              "        }\n",
              "      </script>\n",
              "    </div>\n",
              "  </div>\n",
              "  "
            ]
          },
          "metadata": {},
          "execution_count": 44
        }
      ]
    },
    {
      "cell_type": "code",
      "source": [
        "# Find the mean,max, min, sum CGPA\n",
        "df.cgpa.mean()"
      ],
      "metadata": {
        "id": "pshwvoc7EXU1",
        "colab": {
          "base_uri": "https://localhost:8080/"
        },
        "outputId": "b388a161-e815-48a9-de55-871ae1349dd1"
      },
      "execution_count": null,
      "outputs": [
        {
          "output_type": "execute_result",
          "data": {
            "text/plain": [
              "3.09"
            ]
          },
          "metadata": {},
          "execution_count": 45
        }
      ]
    },
    {
      "cell_type": "code",
      "source": [
        "df.cgpa.max()"
      ],
      "metadata": {
        "colab": {
          "base_uri": "https://localhost:8080/"
        },
        "id": "IhKYl2uqKMHO",
        "outputId": "5b672439-245c-4f39-900c-c3d8b7821dea"
      },
      "execution_count": null,
      "outputs": [
        {
          "output_type": "execute_result",
          "data": {
            "text/plain": [
              "4.8"
            ]
          },
          "metadata": {},
          "execution_count": 47
        }
      ]
    },
    {
      "cell_type": "code",
      "source": [
        "df.cgpa.min()"
      ],
      "metadata": {
        "colab": {
          "base_uri": "https://localhost:8080/"
        },
        "id": "NihKJQJhKIty",
        "outputId": "95aff7b1-34bf-4afc-cc98-aac0c00d78a6"
      },
      "execution_count": null,
      "outputs": [
        {
          "output_type": "execute_result",
          "data": {
            "text/plain": [
              "0.5"
            ]
          },
          "metadata": {},
          "execution_count": 48
        }
      ]
    },
    {
      "cell_type": "code",
      "source": [
        "df.cgpa.sum()"
      ],
      "metadata": {
        "colab": {
          "base_uri": "https://localhost:8080/"
        },
        "id": "VKHpafwtKTjk",
        "outputId": "f1aa3a25-a1f8-4cca-9a28-a1d8927919fa"
      },
      "execution_count": null,
      "outputs": [
        {
          "output_type": "execute_result",
          "data": {
            "text/plain": [
              "30.9"
            ]
          },
          "metadata": {},
          "execution_count": 49
        }
      ]
    },
    {
      "cell_type": "code",
      "source": [
        "df['cgpa'].mean() #.max(), .min(), .sum()"
      ],
      "metadata": {
        "id": "YXDDh1EPEbi-"
      },
      "execution_count": null,
      "outputs": []
    },
    {
      "cell_type": "code",
      "source": [
        "# Check your df to be sure that you have all the rows and columns\n",
        "df\n",
        "# write your data frame to a csv file\n",
        "df.to_csv('mycsv', index=False)   # complete the code # remeber to set index parameter to False\n",
        "# Download the csv file"
      ],
      "metadata": {
        "id": "sEcyjUZSEo-7"
      },
      "execution_count": null,
      "outputs": []
    },
    {
      "cell_type": "markdown",
      "source": [
        "### Submission\n",
        "Create a folder on your desktop and name it Project 1\n",
        "\n",
        "Move your notebook and the csv you downloaded to the folder\n",
        "\n",
        "Create a github account if you haven't\n",
        "\n",
        "Create a repository for the class and name it Python for Data Science (click on the + sign by the top right corner)\n",
        "\n",
        "Click upload an existing file \n",
        "\n",
        "Drag the Project 1 folder containing your code and the csv file into the Drag here field (Do not click on choose your files)\n",
        "\n",
        "Click on the repository name to go the repository home page\n",
        "\n",
        "Click on the address bar to copy the repository link\n",
        "\n",
        "Submit the link privately to me"
      ],
      "metadata": {
        "id": "lOJWZXDqE9B1"
      }
    },
    {
      "cell_type": "code",
      "source": [
        ""
      ],
      "metadata": {
        "id": "y8uUorTMHv2f"
      },
      "execution_count": null,
      "outputs": []
    }
  ]
}